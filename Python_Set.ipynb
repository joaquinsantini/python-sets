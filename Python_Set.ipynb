{
 "cells": [
  {
   "cell_type": "markdown",
   "metadata": {},
   "source": [
    "## Estructura de datos \"set\"\n",
    "\n",
    "https://j2logo.com/python/tutorial/tipo-set-python/<br>\n",
    "https://medium.com/@LuisMBaezCo/todo-lo-que-debes-saber-de-conjuntos-en-python-set-91d9eb33c3"
   ]
  },
  {
   "cell_type": "markdown",
   "metadata": {},
   "source": [
    "### Introducción\n",
    "\n",
    "La estructura set (conjunto en su traducción al español) es una colección no ordenada de objetos únicos. Python provee este tipo de datos por defecto al igual que otras colecciones más convencionales como las listas, tuplas y diccionarios.\n",
    "\n",
    "Además, como Python es un lenguaje de tipado dinámica, es decir, no se debe especificar el tipo de dato para crear una variable, se pueden almacenar varios valores de diferentes tipos de datos.\n",
    "\n",
    "Otra propiedad importante de este tipo de estructura es que no tiene índice, a diferencia por ejemplo de las listas.\n",
    "\n",
    "**NOTA:** Los elementos que se pueden añadir a un set deben ser de tipo hashable. Un objeto es hashable si tiene un valor de hash que no cambia durante todo su ciclo de vida. En principio, los objetos que son instancias de clases definidas por el usuario son hashables. También lo son la mayoría de tipos inmutables definidos por Python."
   ]
  },
  {
   "cell_type": "markdown",
   "metadata": {},
   "source": [
    "### set Vs frozenset\n",
    "\n",
    "En realidad, en Python existen dos clases para representar conjuntos: set y frozenset. La principal diferencia es que set es mutable, por lo que después de ser creado, se pueden añadir y/o eliminar elementos del conjunto. Por su parte, frozenset es inmutable y su contenido no puede ser modificado una vez que ha sido inicializado.\n",
    "\n",
    "El único modo en Python de tener un conjunto de conjuntos es utilizando objetos de tipo frozenset como elementos del propio conjunto."
   ]
  },
  {
   "cell_type": "markdown",
   "metadata": {},
   "source": [
    "### Creación\n",
    "\n",
    "Se puede instanciar un set directamente especificando sus elementos entre llaves:"
   ]
  },
  {
   "cell_type": "code",
   "execution_count": 1,
   "metadata": {},
   "outputs": [],
   "source": [
    "set_1 = {1, 2, 3, 4, 5}"
   ]
  },
  {
   "cell_type": "markdown",
   "metadata": {},
   "source": [
    "Recordemos que se pueden instanciar sets de distintos tipos de datos:"
   ]
  },
  {
   "cell_type": "code",
   "execution_count": 2,
   "metadata": {},
   "outputs": [],
   "source": [
    "set_2 = {True, 3.14, None, False, \"Hola mundo\", (1, 2)}"
   ]
  },
  {
   "cell_type": "markdown",
   "metadata": {},
   "source": [
    "No obstante, un set no puede incluir objetos mutables como listas, diccionarios, e incluso otros conjuntos:"
   ]
  },
  {
   "cell_type": "code",
   "execution_count": 3,
   "metadata": {},
   "outputs": [
    {
     "ename": "TypeError",
     "evalue": "unhashable type: 'list'",
     "output_type": "error",
     "traceback": [
      "\u001b[1;31m---------------------------------------------------------------------------\u001b[0m",
      "\u001b[1;31mTypeError\u001b[0m                                 Traceback (most recent call last)",
      "\u001b[1;32m<ipython-input-3-e405a5da5ae7>\u001b[0m in \u001b[0;36m<module>\u001b[1;34m\u001b[0m\n\u001b[1;32m----> 1\u001b[1;33m \u001b[0mset_3\u001b[0m \u001b[1;33m=\u001b[0m \u001b[1;33m{\u001b[0m\u001b[1;33m[\u001b[0m\u001b[1;36m1\u001b[0m\u001b[1;33m,\u001b[0m \u001b[1;36m2\u001b[0m\u001b[1;33m]\u001b[0m\u001b[1;33m}\u001b[0m\u001b[1;33m\u001b[0m\u001b[1;33m\u001b[0m\u001b[0m\n\u001b[0m",
      "\u001b[1;31mTypeError\u001b[0m: unhashable type: 'list'"
     ]
    }
   ],
   "source": [
    "set_3 = {[1, 2]}"
   ]
  },
  {
   "cell_type": "markdown",
   "metadata": {},
   "source": [
    "Python distingue este tipo operación de la creación de un diccionario ya que no incluye dos puntos. Sin embargo, no puede dirimir el siguiente caso (donde en realidad se está instanciando un **diccionario vacío**):"
   ]
  },
  {
   "cell_type": "code",
   "execution_count": 4,
   "metadata": {},
   "outputs": [
    {
     "name": "stdout",
     "output_type": "stream",
     "text": [
      "<class 'dict'>\n"
     ]
    }
   ],
   "source": [
    "set_4 = {}\n",
    "\n",
    "print(type(set_4))"
   ]
  },
  {
   "cell_type": "markdown",
   "metadata": {},
   "source": [
    "Para generar un conjunto vacío, directamente creamos una instancia de la clase set:"
   ]
  },
  {
   "cell_type": "code",
   "execution_count": 5,
   "metadata": {},
   "outputs": [
    {
     "name": "stdout",
     "output_type": "stream",
     "text": [
      "<class 'set'>\n"
     ]
    }
   ],
   "source": [
    "set_5 = set()\n",
    "\n",
    "print(type(set_5))"
   ]
  },
  {
   "cell_type": "markdown",
   "metadata": {},
   "source": [
    "### Acceso a elementos\n",
    "\n",
    "Dado que los sets son colecciones desordenadas, en ellos no se guarda la posición en la que son insertados los elementos como ocurre en los tipos list o tuple. Es por ello que no se puede acceder a los elementos a través de un índice.\n",
    "\n",
    "Sin embargo, sí se puede acceder y/o recorrer todos los elementos de un conjunto usando un bucle for:"
   ]
  },
  {
   "cell_type": "code",
   "execution_count": 6,
   "metadata": {},
   "outputs": [
    {
     "name": "stdout",
     "output_type": "stream",
     "text": [
      "1\n",
      "2\n",
      "3\n",
      "9\n"
     ]
    }
   ],
   "source": [
    "set_6 = {1, 3, 2, 9, 3, 1}\n",
    "\n",
    "for e in set_6:\n",
    "    print(e)"
   ]
  },
  {
   "cell_type": "markdown",
   "metadata": {},
   "source": [
    "### Agregar y Eliminar elementos\n",
    "\n",
    "Para agregar un elemento a un conjunto se utiliza el método add(). También existe el método update(), que puede tomar como argumento una lista, tupla, string, conjunto o cualquier objeto de tipo iterable.\n",
    "\n",
    "**NOTA:** add() y update() no agregan elementos que ya existen al conjunto."
   ]
  },
  {
   "cell_type": "code",
   "execution_count": 7,
   "metadata": {},
   "outputs": [
    {
     "name": "stdout",
     "output_type": "stream",
     "text": [
      "{1, 2, 3, 7, 9}\n",
      "{1, 2, 3, 4, 5, 6, 7, 9}\n"
     ]
    }
   ],
   "source": [
    "set_7 = {1, 3, 2, 9, 3, 1}\n",
    "\n",
    "# Agrego el elemento 7 al conjunto\n",
    "set_7.add(7)\n",
    "\n",
    "print(set_7)\n",
    "\n",
    "# Agrego los elementos 5, 3, 4 y 6 al conjunto. Los elementos repetidos no se agregan al conjunto\n",
    "set_7.update([5, 3, 4, 6])\n",
    "\n",
    "print(set_7)"
   ]
  },
  {
   "cell_type": "markdown",
   "metadata": {},
   "source": [
    "La clase set ofrece cuatro métodos para eliminar elementos de un conjunto. Son: discard(), remove(), pop() y clear().\n",
    "\n",
    "discard(elemento) y remove(elemento) eliminan elemento del conjunto. La única diferencia es que si elemento no existe, discard() no hace nada mientras que remove() lanza la excepción KeyError.\n",
    "\n",
    "pop() devuelve un elemento aleatorio del conjunto y lo elimina del mismo. Si el conjunto está vacío, lanza la excepción KeyError.\n",
    "\n",
    "Finalmente, clear() elimina todos los elementos contenidos en el conjunto."
   ]
  },
  {
   "cell_type": "code",
   "execution_count": 8,
   "metadata": {},
   "outputs": [
    {
     "name": "stdout",
     "output_type": "stream",
     "text": [
      "{2, 3, 4, 5, 6, 9}\n",
      "{2, 3, 5, 6, 9}\n"
     ]
    }
   ],
   "source": [
    "set_8 = {1, 3, 2, 9, 3, 1, 6, 4, 5}\n",
    "\n",
    "# Elimina el elemento 1 con remove()\n",
    "set_8.remove(1)\n",
    "\n",
    "print(set_8)\n",
    "\n",
    "# Elimina el elemento 4 con discard()\n",
    "set_8.discard(4)\n",
    "\n",
    "print(set_8)"
   ]
  },
  {
   "cell_type": "code",
   "execution_count": 9,
   "metadata": {},
   "outputs": [
    {
     "ename": "KeyError",
     "evalue": "7",
     "output_type": "error",
     "traceback": [
      "\u001b[1;31m---------------------------------------------------------------------------\u001b[0m",
      "\u001b[1;31mKeyError\u001b[0m                                  Traceback (most recent call last)",
      "\u001b[1;32m<ipython-input-9-2b487822f4a1>\u001b[0m in \u001b[0;36m<module>\u001b[1;34m\u001b[0m\n\u001b[0;32m      1\u001b[0m \u001b[1;31m# Trata de eliminar el elemento 7 (no existe) con remove(). Lanza la excepción KeyError\u001b[0m\u001b[1;33m\u001b[0m\u001b[1;33m\u001b[0m\u001b[1;33m\u001b[0m\u001b[0m\n\u001b[1;32m----> 2\u001b[1;33m \u001b[0mset_8\u001b[0m\u001b[1;33m.\u001b[0m\u001b[0mremove\u001b[0m\u001b[1;33m(\u001b[0m\u001b[1;36m7\u001b[0m\u001b[1;33m)\u001b[0m\u001b[1;33m\u001b[0m\u001b[1;33m\u001b[0m\u001b[0m\n\u001b[0m",
      "\u001b[1;31mKeyError\u001b[0m: 7"
     ]
    }
   ],
   "source": [
    "# Trata de eliminar el elemento 7 (no existe) con remove(). Lanza la excepción KeyError\n",
    "set_8.remove(7)"
   ]
  },
  {
   "cell_type": "code",
   "execution_count": 10,
   "metadata": {},
   "outputs": [
    {
     "name": "stdout",
     "output_type": "stream",
     "text": [
      "{2, 3, 5, 6, 9}\n"
     ]
    }
   ],
   "source": [
    "# Trata de eliminar el elemento 7 (no existe) con discard(). No hace nada\n",
    "set_8.discard(7)\n",
    "\n",
    "print(set_8)"
   ]
  },
  {
   "cell_type": "code",
   "execution_count": 11,
   "metadata": {},
   "outputs": [
    {
     "name": "stdout",
     "output_type": "stream",
     "text": [
      "{3, 5, 6, 9}\n"
     ]
    }
   ],
   "source": [
    "# Obtiene y elimina un elemento aleatorio con pop()\n",
    "set_8.pop()\n",
    "\n",
    "print(set_8)"
   ]
  },
  {
   "cell_type": "code",
   "execution_count": 12,
   "metadata": {},
   "outputs": [
    {
     "name": "stdout",
     "output_type": "stream",
     "text": [
      "set()\n"
     ]
    }
   ],
   "source": [
    "# Elimina todos los elementos del conjunto\n",
    "set_8.clear()\n",
    "\n",
    "print(set_8)"
   ]
  },
  {
   "cell_type": "markdown",
   "metadata": {},
   "source": [
    "### Cantidad de elementos\n",
    "\n",
    "Simplemente con el método len() lo podemos obtener:"
   ]
  },
  {
   "cell_type": "code",
   "execution_count": 13,
   "metadata": {},
   "outputs": [
    {
     "data": {
      "text/plain": [
       "4"
      ]
     },
     "execution_count": 13,
     "metadata": {},
     "output_type": "execute_result"
    }
   ],
   "source": [
    "set_9 = {1, 2, 3, 4}\n",
    "\n",
    "len(set_9)"
   ]
  },
  {
   "cell_type": "markdown",
   "metadata": {},
   "source": [
    "### ¿Cómo saber si un elemento está en un set?\n",
    "\n",
    "Se utiliza el operador in:"
   ]
  },
  {
   "cell_type": "code",
   "execution_count": 14,
   "metadata": {},
   "outputs": [
    {
     "name": "stdout",
     "output_type": "stream",
     "text": [
      "True\n",
      "False\n",
      "False\n"
     ]
    }
   ],
   "source": [
    "set_10 = set([1, 2, 5, 3, 1, 5])\n",
    "\n",
    "print(1 in set_10)\n",
    "\n",
    "print(6 in set_10)\n",
    "\n",
    "print(2 not in set_10)"
   ]
  },
  {
   "cell_type": "markdown",
   "metadata": {},
   "source": [
    "### Operaciones entre 2 o más sets\n",
    "\n",
    "Uno de los principales usos del tipo set es utilizarlo en operaciones algebráicas de conjuntos: unión, intersección, diferencia, diferencia simétrica, etc."
   ]
  },
  {
   "cell_type": "markdown",
   "metadata": {},
   "source": [
    "![](https://www.tutorialesprogramacionya.com/pythonya/imagentema/foto215.jpg)"
   ]
  },
  {
   "cell_type": "markdown",
   "metadata": {},
   "source": [
    "#### Unión\n",
    "\n",
    "La unión de dos conjuntos A y B es el conjunto A ∪ B que contiene todos los elementos de A y de B.\n",
    "\n",
    "En Python se utiliza el operador | para realizar la unión de dos o más conjuntos:"
   ]
  },
  {
   "cell_type": "code",
   "execution_count": 15,
   "metadata": {},
   "outputs": [
    {
     "data": {
      "text/plain": [
       "{1, 2, 3, 4, 6, 8}"
      ]
     },
     "execution_count": 15,
     "metadata": {},
     "output_type": "execute_result"
    }
   ],
   "source": [
    "a = {1, 2, 3, 4}\n",
    "b = {2, 4, 6, 8}\n",
    "\n",
    "c = a | b\n",
    "\n",
    "c"
   ]
  },
  {
   "cell_type": "markdown",
   "metadata": {},
   "source": [
    "Se puede representar la unión también con el método union():"
   ]
  },
  {
   "cell_type": "code",
   "execution_count": 16,
   "metadata": {},
   "outputs": [
    {
     "data": {
      "text/plain": [
       "{1, 2, 3, 4, 5, 6}"
      ]
     },
     "execution_count": 16,
     "metadata": {},
     "output_type": "execute_result"
    }
   ],
   "source": [
    "{1, 2, 3, 4, 5}.union({3, 4, 5, 6})"
   ]
  },
  {
   "cell_type": "markdown",
   "metadata": {},
   "source": [
    "#### Intersección\n",
    "\n",
    "La intersección de dos conjuntos A y B es el conjunto A ∩ B que contiene todos los elementos comunes de A y B.\n",
    "\n",
    "En Python se utiliza el operador & para realizar la intersección de dos o más conjuntos:"
   ]
  },
  {
   "cell_type": "code",
   "execution_count": 17,
   "metadata": {},
   "outputs": [
    {
     "data": {
      "text/plain": [
       "{2, 4}"
      ]
     },
     "execution_count": 17,
     "metadata": {},
     "output_type": "execute_result"
    }
   ],
   "source": [
    "a = {1, 2, 3, 4}\n",
    "b = {2, 4, 6, 8}\n",
    "\n",
    "c = a & b\n",
    "\n",
    "c"
   ]
  },
  {
   "cell_type": "markdown",
   "metadata": {},
   "source": [
    "Al igual que con la unión, también podemos utilizar el método intersection():"
   ]
  },
  {
   "cell_type": "code",
   "execution_count": 18,
   "metadata": {},
   "outputs": [
    {
     "data": {
      "text/plain": [
       "{3, 4, 5}"
      ]
     },
     "execution_count": 18,
     "metadata": {},
     "output_type": "execute_result"
    }
   ],
   "source": [
    "{1, 2, 3, 4, 5}.intersection({3, 4, 5, 6})"
   ]
  },
  {
   "cell_type": "markdown",
   "metadata": {},
   "source": [
    "#### Diferencia\n",
    "\n",
    "La diferencia entre dos conjuntos A y B es el conjunto A \\ B que contiene todos los elementos de A que no pertenecen a B.\n",
    "\n",
    "En Python se utiliza el operador - para realizar la diferencia de dos o más conjuntos:"
   ]
  },
  {
   "cell_type": "code",
   "execution_count": 19,
   "metadata": {},
   "outputs": [
    {
     "data": {
      "text/plain": [
       "{1, 3}"
      ]
     },
     "execution_count": 19,
     "metadata": {},
     "output_type": "execute_result"
    }
   ],
   "source": [
    "a = {1, 2, 3, 4}\n",
    "b = {2, 4, 6, 8}\n",
    "\n",
    "c = a - b\n",
    "\n",
    "c"
   ]
  },
  {
   "cell_type": "markdown",
   "metadata": {},
   "source": [
    "El método para realizar la diferencia es difference():"
   ]
  },
  {
   "cell_type": "code",
   "execution_count": 20,
   "metadata": {},
   "outputs": [
    {
     "data": {
      "text/plain": [
       "{1, 4}"
      ]
     },
     "execution_count": 20,
     "metadata": {},
     "output_type": "execute_result"
    }
   ],
   "source": [
    "{1, 2, 3, 4}.difference({2, 3, 5})"
   ]
  },
  {
   "cell_type": "markdown",
   "metadata": {},
   "source": [
    "#### Diferencia Simétrica\n",
    "\n",
    "La diferencia simétrica entre dos conjuntos A y B es el conjunto que contiene los elementos de A y B que no son comunes.\n",
    "\n",
    "En Python se utiliza el operador ^ para realizar la diferencia simétrica de dos o más conjuntos:"
   ]
  },
  {
   "cell_type": "code",
   "execution_count": 21,
   "metadata": {},
   "outputs": [
    {
     "data": {
      "text/plain": [
       "{1, 3, 6, 8}"
      ]
     },
     "execution_count": 21,
     "metadata": {},
     "output_type": "execute_result"
    }
   ],
   "source": [
    "a = {1, 2, 3, 4}\n",
    "b = {2, 4, 6, 8}\n",
    "\n",
    "c = a ^ b\n",
    "\n",
    "c"
   ]
  },
  {
   "cell_type": "markdown",
   "metadata": {},
   "source": [
    "El método para realizar la diferencia simétrica es symmetric_difference():"
   ]
  },
  {
   "cell_type": "code",
   "execution_count": 22,
   "metadata": {},
   "outputs": [
    {
     "data": {
      "text/plain": [
       "{1, 4, 5}"
      ]
     },
     "execution_count": 22,
     "metadata": {},
     "output_type": "execute_result"
    }
   ],
   "source": [
    "{1, 2, 3, 4}.symmetric_difference({2, 3, 5})"
   ]
  },
  {
   "cell_type": "markdown",
   "metadata": {},
   "source": [
    "#### Inclusión\n",
    "\n",
    "Dado un conjunto A, subcolección del conjunto B o igual a este, sus elementos son un subconjunto de B. Es decir, A es un subconjunto de B y B es un superconjunto de A.\n",
    "\n",
    "En Python se utiliza el operador <= para comprobar si un conjunto A es subconjunto de B y el operador >= para comprobar si un conjunto A es superconjunto de B:"
   ]
  },
  {
   "cell_type": "code",
   "execution_count": 23,
   "metadata": {},
   "outputs": [
    {
     "name": "stdout",
     "output_type": "stream",
     "text": [
      "True\n",
      "False\n",
      "True\n"
     ]
    }
   ],
   "source": [
    "a = {1, 2}\n",
    "b = {1, 2, 3, 4}\n",
    "\n",
    "print(a <= b)\n",
    "\n",
    "print(a >= b)\n",
    "\n",
    "print(b >= a)"
   ]
  },
  {
   "cell_type": "markdown",
   "metadata": {},
   "source": [
    "Para determinar superconjuntos y subconjuntos a través de métodos se pueden utilizar issuperset() y issubset() respectivamente:"
   ]
  },
  {
   "cell_type": "code",
   "execution_count": 24,
   "metadata": {},
   "outputs": [
    {
     "name": "stdout",
     "output_type": "stream",
     "text": [
      "False\n",
      "True\n"
     ]
    }
   ],
   "source": [
    "print({1, 2}.issuperset({1, 2, 3}))\n",
    "\n",
    "print({1, 2, 3, 4, 5}.issuperset({1, 2, 3}))"
   ]
  },
  {
   "cell_type": "code",
   "execution_count": 25,
   "metadata": {},
   "outputs": [
    {
     "name": "stdout",
     "output_type": "stream",
     "text": [
      "True\n",
      "False\n"
     ]
    }
   ],
   "source": [
    "print({1, 2}.issubset({1, 2, 3}))\n",
    "\n",
    "print({1, 5, 3, 4}.issubset({1, 2, 3}))"
   ]
  },
  {
   "cell_type": "markdown",
   "metadata": {},
   "source": [
    "#### Conjuntos Disjuntos\n",
    "\n",
    "Dos conjuntos A y B son disjuntos si no tienen elementos en común, es decir, la intersección de A y B es el conjunto vacío.\n",
    "\n",
    "En Python se utiliza el método isdisjoint() de la clase set para comprobar si un conjunto es disjunto de otro:"
   ]
  },
  {
   "cell_type": "code",
   "execution_count": 26,
   "metadata": {},
   "outputs": [
    {
     "data": {
      "text/plain": [
       "False"
      ]
     },
     "execution_count": 26,
     "metadata": {},
     "output_type": "execute_result"
    }
   ],
   "source": [
    "a = {1, 2}\n",
    "b = {1, 2, 3, 4}\n",
    "\n",
    "a.isdisjoint(b)"
   ]
  },
  {
   "cell_type": "code",
   "execution_count": 27,
   "metadata": {},
   "outputs": [
    {
     "data": {
      "text/plain": [
       "True"
      ]
     },
     "execution_count": 27,
     "metadata": {},
     "output_type": "execute_result"
    }
   ],
   "source": [
    "a = {1, 2}\n",
    "b = {3, 4}\n",
    "\n",
    "a.isdisjoint(b)"
   ]
  },
  {
   "cell_type": "markdown",
   "metadata": {},
   "source": [
    "#### Igualdad de Conjuntos\n",
    "\n",
    "En Python dos conjuntos son iguales si y solo si todos los elementos de un conjunto están contenidos en el otro. Esto quiere decir que cada uno es un subconjunto del otro:"
   ]
  },
  {
   "cell_type": "code",
   "execution_count": 28,
   "metadata": {},
   "outputs": [
    {
     "data": {
      "text/plain": [
       "True"
      ]
     },
     "execution_count": 28,
     "metadata": {},
     "output_type": "execute_result"
    }
   ],
   "source": [
    "a = {1, 2}\n",
    "b = {1, 2}\n",
    "\n",
    "a == b"
   ]
  },
  {
   "cell_type": "markdown",
   "metadata": {},
   "source": [
    "#### NOTA: Los operadores |, &, … toman siempre como operandos objetos de tipo set. Sin embargo, sus respectivas versiones como métodos union(), intersection(), … toman como argumentos un iterable (lista, tupla, conjunto, etc.)."
   ]
  },
  {
   "cell_type": "markdown",
   "metadata": {},
   "source": [
    "<table style = \"width:100%\">\n",
    "    <col style=\"width:30%\">\n",
    "\t<col style=\"width:70%\">\n",
    "    <tr>\n",
    "        <th colspan=\"2\" style = \"text-align:center;font-size:22px\">Resumen de Métodos de la clase set</th>\n",
    "    </tr>\n",
    "    <tr>\n",
    "        <th style = \"text-align:left;font-size:18px\">Método</th>\n",
    "        <th style = \"text-align:left;font-size:18px\">Descripción</th>\n",
    "    </tr>\n",
    "    <tr>\n",
    "        <td style = \"text-align:left;font-size:16px\">add(e)</td>\n",
    "        <td style = \"text-align:left;font-size:16px\">Agrega un elemento al conjunto</td>\n",
    "    </tr>\n",
    "    <tr>\n",
    "        <td style = \"text-align:left;font-size:16px\">clear()</td>\n",
    "        <td style = \"text-align:left;font-size:16px\">Elimina todos los elementos del conjunto</td>\n",
    "    </tr>\n",
    "    <tr>\n",
    "        <td style = \"text-align:left;font-size:16px\">copy()</td>\n",
    "        <td style = \"text-align:left;font-size:16px\">Devuelve una copia superficial del conjunto</td>\n",
    "    </tr>\n",
    "    <tr>\n",
    "        <td style = \"text-align:left;font-size:16px\">difference(iterable)</td>\n",
    "        <td style = \"text-align:left;font-size:16px\">Devuelve la diferencia del conjunto con el iterable como un conjunto nuevo</td>\n",
    "    </tr>\n",
    "    <tr>\n",
    "        <td style = \"text-align:left;font-size:16px\">difference_update(iterable)</td>\n",
    "        <td style = \"text-align:left;font-size:16px\">Actualiza el conjunto tras realizar la diferencia con el iterable</td>\n",
    "    </tr>\n",
    "    <tr>\n",
    "        <td style = \"text-align:left;font-size:16px\">discard(e)</td>\n",
    "        <td style = \"text-align:left;font-size:16px\">Elimina, si existe, el elemento del conjunto</td>\n",
    "    </tr>\n",
    "    <tr>\n",
    "        <td style = \"text-align:left;font-size:16px\">intersection(iterable)</td>\n",
    "        <td style = \"text-align:left;font-size:16px\">Devuelve la intersección del conjunto con el iterable como un conjunto nuevo</td>\n",
    "    </tr>\n",
    "    <tr>\n",
    "        <td style = \"text-align:left;font-size:16px\">intersection_update(iterable)</td>\n",
    "        <td style = \"text-align:left;font-size:16px\">Actualiza el conjunto tras realizar la intersección con el iterable</td>\n",
    "    </tr>\n",
    "    <tr>\n",
    "        <td style = \"text-align:left;font-size:16px\">isdisjoint(iterable)</td>\n",
    "        <td style = \"text-align:left;font-size:16px\">Devuelve True si dos conjuntos son disjuntos</td>\n",
    "    </tr>\n",
    "    <tr>\n",
    "        <td style = \"text-align:left;font-size:16px\">issubset(iterable)</td>\n",
    "        <td style = \"text-align:left;font-size:16px\">Devuelve True si el conjunto es subconjunto del iterable</td>\n",
    "    </tr>\n",
    "    <tr>\n",
    "        <td style = \"text-align:left;font-size:16px\">issuperset(iterable)</td>\n",
    "        <td style = \"text-align:left;font-size:16px\">Devuelve True si el conjunto es superconjunto del iterable</td>\n",
    "    </tr>\n",
    "    <tr>\n",
    "        <td style = \"text-align:left;font-size:16px\">pop()</td>\n",
    "        <td style = \"text-align:left;font-size:16px\">Obtiene y elimina un elemento de forma aleatoria del conjunto</td>\n",
    "    </tr>\n",
    "    <tr>\n",
    "        <td style = \"text-align:left;font-size:16px\">remove(e)</td>\n",
    "        <td style = \"text-align:left;font-size:16px\">Elimina el elemento del conjunto. Si no existe lanza un error</td>\n",
    "    </tr>\n",
    "    <tr>\n",
    "        <td style = \"text-align:left;font-size:16px\">symmetric_difference(iterable)</td>\n",
    "        <td style = \"text-align:left;font-size:16px\">Devuelve la diferencia simétrica del conjunto con el iterable como un conjunto nuevo</td>\n",
    "    </tr>\n",
    "    <tr>\n",
    "        <td style = \"text-align:left;font-size:16px\">symmetric_difference_update(iterable)</td>\n",
    "        <td style = \"text-align:left;font-size:16px\">Actualiza el conjunto tras realizar la diferencia simétrica con el iterable</td>\n",
    "    </tr>\n",
    "    <tr>\n",
    "        <td style = \"text-align:left;font-size:16px\">union(iterable)</td>\n",
    "        <td style = \"text-align:left;font-size:16px\">Devuelve la unión del conjunto con el iterable como un conjunto nuevo</td>\n",
    "    </tr>\n",
    "    <tr>\n",
    "        <td style = \"text-align:left;font-size:16px\">update(iterable)</td>\n",
    "        <td style = \"text-align:left;font-size:16px\">Actualiza el conjunto tras realizar la unión con el iterable</td>\n",
    "    </tr>\n",
    "</table>"
   ]
  }
 ],
 "metadata": {
  "kernelspec": {
   "display_name": "Python 3",
   "language": "python",
   "name": "python3"
  },
  "language_info": {
   "codemirror_mode": {
    "name": "ipython",
    "version": 3
   },
   "file_extension": ".py",
   "mimetype": "text/x-python",
   "name": "python",
   "nbconvert_exporter": "python",
   "pygments_lexer": "ipython3",
   "version": "3.7.3"
  }
 },
 "nbformat": 4,
 "nbformat_minor": 2
}
